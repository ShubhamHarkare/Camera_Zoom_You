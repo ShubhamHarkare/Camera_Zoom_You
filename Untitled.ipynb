{
 "cells": [
  {
   "cell_type": "code",
   "execution_count": 1,
   "metadata": {},
   "outputs": [],
   "source": [
    "import tensorflow as tf\n",
    "from keras.preprocessing.image import ImageDataGenerator"
   ]
  },
  {
   "cell_type": "code",
   "execution_count": 2,
   "metadata": {},
   "outputs": [
    {
     "name": "stdout",
     "output_type": "stream",
     "text": [
      "Found 600 images belonging to 2 classes.\n"
     ]
    }
   ],
   "source": [
    "train_datagen = ImageDataGenerator(rescale = 1./255,\n",
    "                                   shear_range = 0.2,\n",
    "                                   zoom_range = 0.2,\n",
    "                                   horizontal_flip = True)\n",
    "training_set = train_datagen.flow_from_directory('Train',\n",
    "                                                 target_size = (64, 64),\n",
    "                                                 batch_size = 32,\n",
    "                                                 class_mode = 'binary')"
   ]
  },
  {
   "cell_type": "code",
   "execution_count": 3,
   "metadata": {},
   "outputs": [
    {
     "name": "stdout",
     "output_type": "stream",
     "text": [
      "Found 100 images belonging to 2 classes.\n",
      "Found 306 images belonging to 2 classes.\n"
     ]
    }
   ],
   "source": [
    "test_datagen = ImageDataGenerator(rescale = 1./255)\n",
    "test_set = test_datagen.flow_from_directory('Test',\n",
    "                                            target_size = (64, 64),\n",
    "                                            batch_size = 32,\n",
    "                                            class_mode = 'binary')\n",
    "validation_datagen = ImageDataGenerator(rescale = 1./255)\n",
    "validation_set = test_datagen.flow_from_directory('Validation',\n",
    "                                            target_size = (64, 64),\n",
    "                                            batch_size = 32,\n",
    "                                            class_mode = 'binary')"
   ]
  },
  {
   "cell_type": "code",
   "execution_count": 4,
   "metadata": {},
   "outputs": [],
   "source": [
    "cnn = tf.keras.models.Sequential()"
   ]
  },
  {
   "cell_type": "code",
   "execution_count": 5,
   "metadata": {},
   "outputs": [],
   "source": [
    "cnn.add(tf.keras.layers.Conv2D(filters=32, kernel_size=3, activation='relu', input_shape=[64, 64, 3]))"
   ]
  },
  {
   "cell_type": "code",
   "execution_count": 6,
   "metadata": {},
   "outputs": [],
   "source": [
    "cnn.add(tf.keras.layers.MaxPool2D(pool_size=2, strides=2))"
   ]
  },
  {
   "cell_type": "code",
   "execution_count": 7,
   "metadata": {},
   "outputs": [],
   "source": [
    "cnn.add(tf.keras.layers.Conv2D(filters=32, kernel_size=3, activation='relu'))\n",
    "cnn.add(tf.keras.layers.MaxPool2D(pool_size=2, strides=2))"
   ]
  },
  {
   "cell_type": "code",
   "execution_count": 8,
   "metadata": {},
   "outputs": [],
   "source": [
    "cnn.add(tf.keras.layers.Flatten())"
   ]
  },
  {
   "cell_type": "code",
   "execution_count": 9,
   "metadata": {},
   "outputs": [
    {
     "name": "stdout",
     "output_type": "stream",
     "text": [
      "Model: \"sequential\"\n",
      "_________________________________________________________________\n",
      "Layer (type)                 Output Shape              Param #   \n",
      "=================================================================\n",
      "conv2d (Conv2D)              (None, 62, 62, 32)        896       \n",
      "_________________________________________________________________\n",
      "max_pooling2d (MaxPooling2D) (None, 31, 31, 32)        0         \n",
      "_________________________________________________________________\n",
      "conv2d_1 (Conv2D)            (None, 29, 29, 32)        9248      \n",
      "_________________________________________________________________\n",
      "max_pooling2d_1 (MaxPooling2 (None, 14, 14, 32)        0         \n",
      "_________________________________________________________________\n",
      "flatten (Flatten)            (None, 6272)              0         \n",
      "=================================================================\n",
      "Total params: 10,144\n",
      "Trainable params: 10,144\n",
      "Non-trainable params: 0\n",
      "_________________________________________________________________\n"
     ]
    }
   ],
   "source": [
    "cnn.summary()"
   ]
  },
  {
   "cell_type": "code",
   "execution_count": 10,
   "metadata": {},
   "outputs": [],
   "source": [
    "cnn.add(tf.keras.layers.Dense(units=128, activation='relu'))"
   ]
  },
  {
   "cell_type": "code",
   "execution_count": 11,
   "metadata": {},
   "outputs": [],
   "source": [
    "cnn.add(tf.keras.layers.Dense(units=1, activation='sigmoid'))"
   ]
  },
  {
   "cell_type": "code",
   "execution_count": 12,
   "metadata": {},
   "outputs": [
    {
     "name": "stdout",
     "output_type": "stream",
     "text": [
      "Model: \"sequential\"\n",
      "_________________________________________________________________\n",
      "Layer (type)                 Output Shape              Param #   \n",
      "=================================================================\n",
      "conv2d (Conv2D)              (None, 62, 62, 32)        896       \n",
      "_________________________________________________________________\n",
      "max_pooling2d (MaxPooling2D) (None, 31, 31, 32)        0         \n",
      "_________________________________________________________________\n",
      "conv2d_1 (Conv2D)            (None, 29, 29, 32)        9248      \n",
      "_________________________________________________________________\n",
      "max_pooling2d_1 (MaxPooling2 (None, 14, 14, 32)        0         \n",
      "_________________________________________________________________\n",
      "flatten (Flatten)            (None, 6272)              0         \n",
      "_________________________________________________________________\n",
      "dense (Dense)                (None, 128)               802944    \n",
      "_________________________________________________________________\n",
      "dense_1 (Dense)              (None, 1)                 129       \n",
      "=================================================================\n",
      "Total params: 813,217\n",
      "Trainable params: 813,217\n",
      "Non-trainable params: 0\n",
      "_________________________________________________________________\n"
     ]
    }
   ],
   "source": [
    "cnn.summary()"
   ]
  },
  {
   "cell_type": "code",
   "execution_count": 13,
   "metadata": {},
   "outputs": [],
   "source": [
    "cnn.compile(optimizer = 'adam', loss = 'binary_crossentropy', metrics = ['accuracy'])"
   ]
  },
  {
   "cell_type": "code",
   "execution_count": 14,
   "metadata": {},
   "outputs": [
    {
     "name": "stdout",
     "output_type": "stream",
     "text": [
      "Epoch 1/25\n",
      "19/19 [==============================] - 11s 554ms/step - loss: 0.6706 - accuracy: 0.6417 - val_loss: 0.5121 - val_accuracy: 0.8203\n",
      "Epoch 2/25\n",
      "19/19 [==============================] - 10s 541ms/step - loss: 0.4436 - accuracy: 0.8083 - val_loss: 0.3197 - val_accuracy: 0.8922\n",
      "Epoch 3/25\n",
      "19/19 [==============================] - 10s 521ms/step - loss: 0.3322 - accuracy: 0.8683 - val_loss: 0.3352 - val_accuracy: 0.8366\n",
      "Epoch 4/25\n",
      "19/19 [==============================] - 10s 521ms/step - loss: 0.3351 - accuracy: 0.8533 - val_loss: 0.3165 - val_accuracy: 0.8824\n",
      "Epoch 5/25\n",
      "19/19 [==============================] - 10s 529ms/step - loss: 0.2590 - accuracy: 0.9017 - val_loss: 0.2687 - val_accuracy: 0.8856\n",
      "Epoch 6/25\n",
      "19/19 [==============================] - 10s 527ms/step - loss: 0.2304 - accuracy: 0.9067 - val_loss: 0.2511 - val_accuracy: 0.8824\n",
      "Epoch 7/25\n",
      "19/19 [==============================] - 10s 512ms/step - loss: 0.2194 - accuracy: 0.9133 - val_loss: 0.2646 - val_accuracy: 0.8725\n",
      "Epoch 8/25\n",
      "19/19 [==============================] - 10s 534ms/step - loss: 0.2032 - accuracy: 0.9267 - val_loss: 0.2724 - val_accuracy: 0.8791\n",
      "Epoch 9/25\n",
      "19/19 [==============================] - 10s 544ms/step - loss: 0.1823 - accuracy: 0.9217 - val_loss: 0.3686 - val_accuracy: 0.8268\n",
      "Epoch 10/25\n",
      "19/19 [==============================] - 10s 520ms/step - loss: 0.1995 - accuracy: 0.9183 - val_loss: 0.3075 - val_accuracy: 0.9052\n",
      "Epoch 11/25\n",
      "19/19 [==============================] - 10s 535ms/step - loss: 0.1716 - accuracy: 0.9417 - val_loss: 0.2718 - val_accuracy: 0.9118\n",
      "Epoch 12/25\n",
      "19/19 [==============================] - 10s 539ms/step - loss: 0.1715 - accuracy: 0.9367 - val_loss: 0.3013 - val_accuracy: 0.8889\n",
      "Epoch 13/25\n",
      "19/19 [==============================] - 10s 523ms/step - loss: 0.1631 - accuracy: 0.9450 - val_loss: 0.3536 - val_accuracy: 0.8464\n",
      "Epoch 14/25\n",
      "19/19 [==============================] - 11s 557ms/step - loss: 0.1394 - accuracy: 0.9550 - val_loss: 0.2724 - val_accuracy: 0.8889\n",
      "Epoch 15/25\n",
      "19/19 [==============================] - 11s 595ms/step - loss: 0.1252 - accuracy: 0.9483 - val_loss: 0.3218 - val_accuracy: 0.8693\n",
      "Epoch 16/25\n",
      "19/19 [==============================] - 10s 548ms/step - loss: 0.1225 - accuracy: 0.9567 - val_loss: 0.3046 - val_accuracy: 0.8824\n",
      "Epoch 17/25\n",
      "19/19 [==============================] - 11s 580ms/step - loss: 0.1244 - accuracy: 0.9567 - val_loss: 0.4333 - val_accuracy: 0.8203\n",
      "Epoch 18/25\n",
      "19/19 [==============================] - 10s 529ms/step - loss: 0.1361 - accuracy: 0.9517 - val_loss: 0.3680 - val_accuracy: 0.8595\n",
      "Epoch 19/25\n",
      "19/19 [==============================] - 10s 527ms/step - loss: 0.1475 - accuracy: 0.9333 - val_loss: 0.3038 - val_accuracy: 0.9183\n",
      "Epoch 20/25\n",
      "19/19 [==============================] - 10s 529ms/step - loss: 0.1127 - accuracy: 0.9600 - val_loss: 0.3020 - val_accuracy: 0.9020\n",
      "Epoch 21/25\n",
      "19/19 [==============================] - 10s 522ms/step - loss: 0.0922 - accuracy: 0.9617 - val_loss: 0.3340 - val_accuracy: 0.8889\n",
      "Epoch 22/25\n",
      "19/19 [==============================] - 10s 514ms/step - loss: 0.1000 - accuracy: 0.9633 - val_loss: 0.3396 - val_accuracy: 0.8824\n",
      "Epoch 23/25\n",
      "19/19 [==============================] - 11s 562ms/step - loss: 0.0850 - accuracy: 0.9633 - val_loss: 0.3454 - val_accuracy: 0.9052\n",
      "Epoch 24/25\n",
      "19/19 [==============================] - 10s 536ms/step - loss: 0.1054 - accuracy: 0.9517 - val_loss: 0.3352 - val_accuracy: 0.8987\n",
      "Epoch 25/25\n",
      "19/19 [==============================] - 10s 523ms/step - loss: 0.0890 - accuracy: 0.9633 - val_loss: 0.3911 - val_accuracy: 0.8791\n",
      "Model Success!\n"
     ]
    }
   ],
   "source": [
    "cnn.fit(x = training_set, validation_data = validation_set, epochs = 25)\n",
    "print(\"Model Success!\")"
   ]
  },
  {
   "cell_type": "code",
   "execution_count": 16,
   "metadata": {},
   "outputs": [
    {
     "name": "stdout",
     "output_type": "stream",
     "text": [
      "4/4 [==============================] - 1s 196ms/step - loss: 0.1480 - accuracy: 0.9500\n",
      "94.9999988079071\n"
     ]
    }
   ],
   "source": [
    "_,acc=cnn.evaluate(test_set)\n",
    "print(acc*100)"
   ]
  },
  {
   "cell_type": "code",
   "execution_count": 17,
   "metadata": {},
   "outputs": [
    {
     "name": "stdout",
     "output_type": "stream",
     "text": [
      "WARNING:tensorflow:From C:\\Users\\91922\\anaconda3.1\\lib\\site-packages\\tensorflow\\python\\training\\tracking\\tracking.py:111: Model.state_updates (from tensorflow.python.keras.engine.training) is deprecated and will be removed in a future version.\n",
      "Instructions for updating:\n",
      "This property should not be used in TensorFlow 2.0, as updates are applied automatically.\n",
      "WARNING:tensorflow:From C:\\Users\\91922\\anaconda3.1\\lib\\site-packages\\tensorflow\\python\\training\\tracking\\tracking.py:111: Layer.updates (from tensorflow.python.keras.engine.base_layer) is deprecated and will be removed in a future version.\n",
      "Instructions for updating:\n",
      "This property should not be used in TensorFlow 2.0, as updates are applied automatically.\n",
      "INFO:tensorflow:Assets written to: 1.model\\assets\n"
     ]
    }
   ],
   "source": [
    "cnn.save('1.model')"
   ]
  },
  {
   "cell_type": "code",
   "execution_count": null,
   "metadata": {},
   "outputs": [],
   "source": []
  }
 ],
 "metadata": {
  "kernelspec": {
   "display_name": "Python 3",
   "language": "python",
   "name": "python3"
  },
  "language_info": {
   "codemirror_mode": {
    "name": "ipython",
    "version": 3
   },
   "file_extension": ".py",
   "mimetype": "text/x-python",
   "name": "python",
   "nbconvert_exporter": "python",
   "pygments_lexer": "ipython3",
   "version": "3.8.3"
  }
 },
 "nbformat": 4,
 "nbformat_minor": 4
}
